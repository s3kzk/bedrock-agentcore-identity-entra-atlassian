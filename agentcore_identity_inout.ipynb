{
 "cells": [
  {
   "cell_type": "markdown",
   "id": "5a185418",
   "metadata": {},
   "source": [
    "## 初期セットアップ"
   ]
  },
  {
   "cell_type": "code",
   "execution_count": null,
   "id": "7906364a",
   "metadata": {},
   "outputs": [],
   "source": [
    "!pip install -r requirements.txt"
   ]
  },
  {
   "cell_type": "code",
   "execution_count": null,
   "id": "864eeb0a",
   "metadata": {},
   "outputs": [],
   "source": [
    "import uuid\n",
    "\n",
    "# セッションIDの生成\n",
    "session_id = str(uuid.uuid4())"
   ]
  },
  {
   "cell_type": "code",
   "execution_count": null,
   "id": "295d5a8a",
   "metadata": {},
   "outputs": [],
   "source": [
    "from bedrock_agentcore.services.identity import IdentityClient\n",
    "from boto3.session import Session\n",
    "\n",
    "import os\n",
    "\n",
    "boto_session = Session()\n",
    "region = boto_session.region_name\n",
    "\n",
    "# Identity Client の初期化\n",
    "identity_client = IdentityClient(region=region)\n",
    "\n",
    "# Entra ID の設定 (ユーザー認証用)\n",
    "os.environ[\"entra_client_id\"] = \"xxxxx\"\n",
    "os.environ[\"entra_scopes\"] = \"api://xxxxx/qiita_test\"\n",
    "os.environ[\"entra_tenant_id\"] = \"xxxxx\"\n",
    "os.environ[\"entra_audience\"] = \"api://xxxxx\""
   ]
  },
  {
   "cell_type": "markdown",
   "id": "e5880fad",
   "metadata": {},
   "source": [
    "### msal を使った Entra ID からのアクセストークン取得テスト"
   ]
  },
  {
   "cell_type": "code",
   "execution_count": null,
   "id": "7ce6fb93",
   "metadata": {},
   "outputs": [],
   "source": [
    "import msal\n",
    "import webbrowser\n",
    "\n",
    "REDIRECT_URI = (\n",
    "    f\"https://bedrock-agentcore.{region}.amazonaws.com/identities/oauth2/callback\"\n",
    ")\n",
    "AUTHORITY = f\"https://login.microsoftonline.com/{os.environ['entra_tenant_id']}\"\n",
    "\n",
    "app = msal.PublicClientApplication(\n",
    "    client_id=os.environ[\"entra_client_id\"],\n",
    "    authority=AUTHORITY,\n",
    ")\n",
    "\n",
    "entra_auth_result = app.acquire_token_silent(\n",
    "    scopes=[os.environ[\"entra_scopes\"]], account=None\n",
    ")\n",
    "\n",
    "if not entra_auth_result:\n",
    "    flow = app.initiate_device_flow(scopes=[os.environ[\"entra_scopes\"]])\n",
    "    if \"user_code\" not in flow:\n",
    "        raise ValueError(\"デバイスフローの開始に失敗しました。\")\n",
    "\n",
    "    print(flow[\"message\"])\n",
    "    webbrowser.open(flow[\"verification_uri\"])\n",
    "\n",
    "    entra_auth_result = app.acquire_token_by_device_flow(flow)\n",
    "\n",
    "access_token = entra_auth_result[\"access_token\"]\n",
    "\n",
    "print(f\"Bearerトークンの取得完了: {access_token[:20]}...\")"
   ]
  },
  {
   "cell_type": "markdown",
   "id": "9d0ddb99",
   "metadata": {},
   "source": [
    "## Atlassian Provider のデプロイ"
   ]
  },
  {
   "cell_type": "code",
   "execution_count": null,
   "id": "ca3ed3e9",
   "metadata": {},
   "outputs": [],
   "source": [
    "from bedrock_agentcore.services.identity import IdentityClient\n",
    "from boto3.session import Session\n",
    "\n",
    "boto_session = Session()\n",
    "region = boto_session.region_name\n",
    "\n",
    "identity_client = IdentityClient(region=region)\n",
    "\n",
    "# Atlassian OAuth 2.0 アプリケーションの設定\n",
    "os.environ[\"atlassian_client_id\"] = \"xxxxx\"\n",
    "os.environ[\"atlassian_secret\"] = \"xxxxx\"\n",
    "os.environ[\"atlassian_scopes\"] = (\n",
    "    \"read:page:confluence write:page:confluence read:space:confluence read:space-details:confluence search:confluence offline_access\"\n",
    ")\n",
    "\n",
    "# Provider（アイデンティティ）の作成\n",
    "atlassian_provider = identity_client.create_oauth2_credential_provider(\n",
    "    req={\n",
    "        \"name\": \"atlassian_oauth_provider\",\n",
    "        \"credentialProviderVendor\": \"AtlassianOauth2\",\n",
    "        \"oauth2ProviderConfigInput\": {\n",
    "            \"atlassianOauth2ProviderConfig\": {\n",
    "                \"clientId\": os.environ[\"atlassian_client_id\"],\n",
    "                \"clientSecret\": os.environ[\"atlassian_secret\"],\n",
    "            }\n",
    "        },\n",
    "    }\n",
    ")"
   ]
  },
  {
   "cell_type": "markdown",
   "id": "98481a54",
   "metadata": {},
   "source": [
    "## Microsoft Entra を使ったインバウンド認証のテスト"
   ]
  },
  {
   "cell_type": "code",
   "execution_count": null,
   "id": "b7c21785",
   "metadata": {},
   "outputs": [],
   "source": [
    "from bedrock_agentcore_starter_toolkit import Runtime\n",
    "\n",
    "agentcore_runtime = Runtime()\n",
    "\n",
    "discovery_url = f\"https://login.microsoftonline.com/{os.environ['entra_tenant_id']}/.well-known/openid-configuration\"\n",
    "\n",
    "entra_runtime_response = agentcore_runtime.configure(\n",
    "    entrypoint=\"strands_with_memory_sample.py\",\n",
    "    auto_create_execution_role=True,\n",
    "    auto_create_ecr=True,\n",
    "    requirements_file=\"requirements.txt\",\n",
    "    region=region,\n",
    "    agent_name=\"strands_entra_inbound\",\n",
    "    authorizer_configuration={\n",
    "        \"customJWTAuthorizer\": {\n",
    "            \"discoveryUrl\": discovery_url,\n",
    "            \"allowedAudience\": [os.environ[\"entra_audience\"]],\n",
    "        }\n",
    "    },\n",
    ")"
   ]
  },
  {
   "cell_type": "code",
   "execution_count": null,
   "id": "0d9e1f2c",
   "metadata": {},
   "outputs": [],
   "source": [
    "strands_entraid_response = agentcore_runtime.launch(local_build=True)"
   ]
  },
  {
   "cell_type": "code",
   "execution_count": null,
   "id": "ab51cc2d",
   "metadata": {},
   "outputs": [],
   "source": [
    "# メモリの状態が'ACTIVE'になるまで待機するユーティリティ関数\n",
    "import time\n",
    "\n",
    "\n",
    "def wait_for_memory_active(memory_id: str, control_client, max_wait_seconds: int = 300):\n",
    "    \"\"\"メモリの状態が'ACTIVE'になるまで5秒間隔でポーリング\"\"\"\n",
    "    start_time = time.time()\n",
    "\n",
    "    while True:\n",
    "        response = control_client.get_memory(memoryId=memory_id)\n",
    "        status = response[\"memory\"][\"status\"]\n",
    "\n",
    "        if status == \"ACTIVE\":\n",
    "            return response\n",
    "        elif status == \"FAILED\":\n",
    "            raise ValueError(f\"Memory failed: {memory_id}\")\n",
    "        elif status == \"DELETING\":\n",
    "            raise ValueError(f\"Memory is being deleted: {memory_id}\")\n",
    "\n",
    "        elapsed = int(time.time() - start_time)\n",
    "        if elapsed >= max_wait_seconds:\n",
    "            raise TimeoutError(\n",
    "                f\"Timeout waiting for memory to become active (status: {status})\"\n",
    "            )\n",
    "\n",
    "        print(f\"Waiting for memory... (status: {status}, {elapsed}s elapsed)\")\n",
    "        time.sleep(5)"
   ]
  },
  {
   "cell_type": "code",
   "execution_count": null,
   "id": "d177c522",
   "metadata": {},
   "outputs": [],
   "source": [
    "import boto3\n",
    "\n",
    "# boto3クライアントの初期化\n",
    "agentcore_control_client = boto3.client(\"bedrock-agentcore-control\", region_name=region)\n",
    "\n",
    "# メモリIDの取得\n",
    "memory_id_1 = agentcore_control_client.get_agent_runtime(\n",
    "    agentRuntimeId=strands_entraid_response.agent_id\n",
    ")[\"environmentVariables\"][\"BEDROCK_AGENTCORE_MEMORY_ID\"]\n",
    "\n",
    "# メモリがActiveになるまで待機\n",
    "wait_for_memory_active(memory_id_1, agentcore_control_client)\n",
    "\n",
    "# invoke実行\n",
    "invoke_response = agentcore_runtime.invoke(\n",
    "    payload={\n",
    "        \"prompt\": \"こんにちはーーーーーーーーーーーーーーーーーーーーーーーーーーーーーーーーーーーーーーーーーーーーーーーーーーーーーーーーーーーーー！！！！！！！！！！！！！！！！！！！！！！！！！！！！！\",\n",
    "    },\n",
    "    bearer_token=access_token,\n",
    "    session_id=session_id,\n",
    "    user_id=\"user1\",\n",
    ")\n",
    "\n",
    "invoke_response"
   ]
  },
  {
   "cell_type": "markdown",
   "id": "75a9c82b",
   "metadata": {},
   "source": [
    "### AgentCore.Identity ライブラリを使った Atlassian 認証テスト"
   ]
  },
  {
   "cell_type": "code",
   "execution_count": null,
   "id": "69e2016f",
   "metadata": {},
   "outputs": [],
   "source": [
    "# プロバイダを使用してアクセストークンを取得\n",
    "from bedrock_agentcore.identity.auth import requires_access_token\n",
    "\n",
    "\n",
    "@requires_access_token(\n",
    "    provider_name=\"atlassian_oauth_provider\",\n",
    "    auth_flow=\"USER_FEDERATION\",\n",
    "    scopes=os.environ[\"atlassian_scopes\"].split(\" \"),\n",
    "    on_auth_url=lambda x: print(\n",
    "        \"\\n表示されたURLをブラウザのアドレスバーにコピーし認証を完了させてください:\\n\"\n",
    "        + x\n",
    "    ),\n",
    "    force_authentication=True,\n",
    ")\n",
    "def need_atlassian_access_token(*, access_token: str):\n",
    "    return access_token\n",
    "\n",
    "\n",
    "need_atlassian_access_token()"
   ]
  },
  {
   "cell_type": "markdown",
   "id": "17dd8550",
   "metadata": {},
   "source": [
    "## Runtime のデプロイ"
   ]
  },
  {
   "cell_type": "code",
   "execution_count": null,
   "id": "2a58b811",
   "metadata": {},
   "outputs": [],
   "source": [
    "agentcore_runtime = Runtime()\n",
    "\n",
    "strands_e_a_response = agentcore_runtime.configure(\n",
    "    entrypoint=\"strands_confluence.py\",\n",
    "    auto_create_execution_role=True,\n",
    "    auto_create_ecr=True,\n",
    "    requirements_file=\"requirements.txt\",\n",
    "    region=region,\n",
    "    agent_name=\"strands_entra_confluence_3lo\",\n",
    "    authorizer_configuration={\n",
    "        \"customJWTAuthorizer\": {\n",
    "            \"discoveryUrl\": discovery_url,\n",
    "            \"allowedAudience\": [os.environ[\"entra_audience\"]],\n",
    "        }  # ここでインバウンド認証の設定を追加\n",
    "    },\n",
    ")"
   ]
  },
  {
   "cell_type": "code",
   "execution_count": null,
   "id": "329f2fd5",
   "metadata": {},
   "outputs": [],
   "source": [
    "launch_response = agentcore_runtime.launch(\n",
    "    local_build=True,\n",
    "    auto_update_on_conflict=True,\n",
    "    env_vars={\n",
    "        \"atlassian_scopes\": os.environ[\"atlassian_scopes\"],\n",
    "    },\n",
    ")"
   ]
  },
  {
   "cell_type": "markdown",
   "id": "df79e789",
   "metadata": {},
   "source": [
    "## Runtime にデプロイされたエージェントの実行 "
   ]
  },
  {
   "cell_type": "markdown",
   "id": "3e7efa5b",
   "metadata": {},
   "source": [
    "### Confluence ページの検索と取得"
   ]
  },
  {
   "cell_type": "code",
   "execution_count": null,
   "id": "8906b55b",
   "metadata": {},
   "outputs": [],
   "source": [
    "# Entra IDからユーザーIDを取得（アクセストークン指定時はトークンの情報でユーザーが識別される）\n",
    "# agentcore_user_id = entra_auth_result[\"id_token_claims\"][\"oid\"]\n",
    "\n",
    "# メモリIDの取得\n",
    "memory_id_2 = agentcore_control_client.get_agent_runtime(\n",
    "    agentRuntimeId=launch_response.agent_id\n",
    ")[\"environmentVariables\"][\"BEDROCK_AGENTCORE_MEMORY_ID\"]\n",
    "\n",
    "# メモリがActiveになるまで待機\n",
    "wait_for_memory_active(memory_id_2, agentcore_control_client)\n",
    "\n",
    "prompt = \"鳥貴族に関するページをConfluenceで検索し、内容を要約してください。\"\n",
    "\n",
    "result = agentcore_runtime.invoke(\n",
    "    payload={\"prompt\": prompt},\n",
    "    session_id=session_id,\n",
    "    # user_id=agentcore_user_id,\n",
    "    bearer_token=access_token,\n",
    ")"
   ]
  },
  {
   "cell_type": "markdown",
   "id": "19420a46",
   "metadata": {},
   "source": [
    "### Confluence ページの新規作成"
   ]
  },
  {
   "cell_type": "code",
   "execution_count": null,
   "id": "61b5d1bf",
   "metadata": {},
   "outputs": [],
   "source": [
    "prompt = \"「わっしょいスペース」というスペースに、Amazon Bedrockに関する解説ページを新規作成してください。内容は200字程度でお願いします。\"\n",
    "\n",
    "result = agentcore_runtime.invoke(\n",
    "    payload={\"prompt\": prompt},\n",
    "    session_id=session_id,\n",
    "    # user_id=agentcore_user_id,\n",
    "    bearer_token=access_token,\n",
    ")"
   ]
  },
  {
   "cell_type": "markdown",
   "id": "94f594aa",
   "metadata": {},
   "source": [
    "### 無効なアクセストークンを指定した場合"
   ]
  },
  {
   "cell_type": "code",
   "execution_count": null,
   "id": "a6aac547",
   "metadata": {},
   "outputs": [],
   "source": [
    "prompt = \"「わっしょいスペース」というスペース（ID：wasshoi）に、わっしょい祭り2025に関する解説ページを新規作成してください。内容は200字程度でお願いします。\"\n",
    "\n",
    "result = agentcore_runtime.invoke(\n",
    "    payload={\"prompt\": prompt},\n",
    "    session_id=session_id,\n",
    "    # user_id=agentcore_user_id,\n",
    "    bearer_token=\"wasshoi_festival_2025\",  # 無効なトークンを指定\n",
    ")"
   ]
  },
  {
   "cell_type": "markdown",
   "id": "4868c88b",
   "metadata": {},
   "source": [
    "## AgentCore リソース削除"
   ]
  },
  {
   "cell_type": "code",
   "execution_count": null,
   "id": "10204392",
   "metadata": {},
   "outputs": [],
   "source": [
    "import boto3\n",
    "\n",
    "agentcore_control_client = boto3.client(\"bedrock-agentcore-control\", region_name=region)\n",
    "\n",
    "# メモリの削除\n",
    "agentcore_control_client.delete_memory(memoryId=memory_id_1)\n",
    "agentcore_control_client.delete_memory(memoryId=memory_id_2)\n",
    "\n",
    "# ランタイムの削除\n",
    "agentcore_control_client.delete_agent_runtime(\n",
    "    agentRuntimeId=strands_entraid_response.agent_id\n",
    ")\n",
    "agentcore_control_client.delete_agent_runtime(agentRuntimeId=launch_response.agent_id)\n",
    "\n",
    "# プロバイダーの削除\n",
    "agentcore_control_client.delete_oauth2_credential_provider(\n",
    "    name=atlassian_provider[\"name\"]\n",
    ")"
   ]
  },
  {
   "cell_type": "code",
   "execution_count": null,
   "id": "61d42a6f",
   "metadata": {},
   "outputs": [],
   "source": []
  }
 ],
 "metadata": {
  "kernelspec": {
   "display_name": "agentcore-identity-quickstart",
   "language": "python",
   "name": "python3"
  },
  "language_info": {
   "codemirror_mode": {
    "name": "ipython",
    "version": 3
   },
   "file_extension": ".py",
   "mimetype": "text/x-python",
   "name": "python",
   "nbconvert_exporter": "python",
   "pygments_lexer": "ipython3",
   "version": "3.13.7"
  }
 },
 "nbformat": 4,
 "nbformat_minor": 5
}
